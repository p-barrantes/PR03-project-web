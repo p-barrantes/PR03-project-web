{
 "metadata": {
  "language_info": {
   "codemirror_mode": {
    "name": "ipython",
    "version": 3
   },
   "file_extension": ".py",
   "mimetype": "text/x-python",
   "name": "python",
   "nbconvert_exporter": "python",
   "pygments_lexer": "ipython3",
   "version": "3.8.5-final"
  },
  "orig_nbformat": 2,
  "kernelspec": {
   "name": "python3",
   "display_name": "Python 3.8.5 64-bit ('base': conda)",
   "metadata": {
    "interpreter": {
     "hash": "dca0ade3e726a953b501b15e8e990130d2b7799f14cfd9f4271676035ebe5511"
    }
   }
  }
 },
 "nbformat": 4,
 "nbformat_minor": 2,
 "cells": [
  {
   "source": [
    "# Web Scraping\n",
    "After pulling all the Glassdoor reviews about Typeform, if you want to join us the next step would be to actually apply for one of the jobs :)\n",
    "\n",
    "So, in this part we will:\n",
    "\n",
    "1. Analyze what positions Typeform is currently hiring for, pulling the data directly from the [career site](https://www.typeform.com/careers/).\n",
    "\n",
    "1. Once we have the data, count how many jobs are open right now, and\n",
    "\n",
    "1. Look for the team with more job openings."
   ],
   "cell_type": "markdown",
   "metadata": {}
  },
  {
   "source": [
    "## Libraries"
   ],
   "cell_type": "markdown",
   "metadata": {}
  },
  {
   "cell_type": "code",
   "execution_count": 1,
   "metadata": {},
   "outputs": [],
   "source": [
    "import requests\n",
    "from bs4 import BeautifulSoup\n",
    "import pandas as pd"
   ]
  },
  {
   "source": [
    "## Scraping"
   ],
   "cell_type": "markdown",
   "metadata": {}
  },
  {
   "cell_type": "code",
   "execution_count": 2,
   "metadata": {},
   "outputs": [],
   "source": [
    "url = 'https://www.typeform.com/careers/'"
   ]
  },
  {
   "cell_type": "code",
   "execution_count": 3,
   "metadata": {},
   "outputs": [
    {
     "output_type": "stream",
     "name": "stdout",
     "text": [
      "200\n"
     ]
    }
   ],
   "source": [
    "response = requests.get(url)\n",
    "print(response.status_code)\n",
    "html = response.text\n",
    "soup = BeautifulSoup(html, 'html.parser')"
   ]
  },
  {
   "cell_type": "code",
   "execution_count": 4,
   "metadata": {},
   "outputs": [],
   "source": [
    "job_posts = soup.findAll('li', attrs={'class':'styled-components__JobItem-sc-1gmvx66-1 kIeacp'})"
   ]
  },
  {
   "cell_type": "code",
   "execution_count": 5,
   "metadata": {},
   "outputs": [],
   "source": [
    "jobs_dict = [{\n",
    "    'Position': job.find('span', attrs={'class':'styled-components__JobName-sc-1gmvx66-4 iYySLG'}).text.strip(),\n",
    "    'Team': job.find('img', alt=True)['alt'].strip(),\n",
    "    'Link': 'https://www.typeform.com' + job.find('a')['href'].strip()\n",
    "} for job in job_posts]"
   ]
  },
  {
   "source": [
    "## Create DataFrame"
   ],
   "cell_type": "markdown",
   "metadata": {}
  },
  {
   "cell_type": "code",
   "execution_count": 6,
   "metadata": {},
   "outputs": [
    {
     "output_type": "execute_result",
     "data": {
      "text/plain": [
       "                                           Position                  Team  \\\n",
       "0                     Account Executive (US remote)  Business Development   \n",
       "1                           Build & Release Manager           Engineering   \n",
       "2                        Community Support Advocate      Customer Success   \n",
       "3                            Corporate FP&A Manager       Finance & Legal   \n",
       "4              Customer Success Manager (US Remote)      Customer Success   \n",
       "5              Customer Support Advocate (VideoAsk)      Customer Success   \n",
       "6                                       Data Devops      Data & Analytics   \n",
       "7                          Data Warehouse Architect      Data & Analytics   \n",
       "8               Director of Strategy & Organization              Strategy   \n",
       "9                               Engineering Manager           Engineering   \n",
       "10                                   General Hiring               General   \n",
       "11                 Head of Data Science & Analytics      Data & Analytics   \n",
       "12                        Head of  Machine Learning      Data & Analytics   \n",
       "13                         Inbound SDR  (Remote US)  Business Development   \n",
       "14            Principal Product Designer - VideoAsk                Design   \n",
       "15                                         Producer                Design   \n",
       "16                      Product Director - VideoAsk               Product   \n",
       "17                      Product Manager - Workflows               Product   \n",
       "18                                       QA Manager           Engineering   \n",
       "19         Senior Data Scientist - Customer Success      Data & Analytics   \n",
       "20                                  Senior Designer                Design   \n",
       "21                         Senior Designer - Growth                Design   \n",
       "22                           Senior DevOps Engineer           Engineering   \n",
       "23                         Senior Frontend Engineer           Engineering   \n",
       "24         Senior HR Business Partner (Engineering)         People & Home   \n",
       "25               Senior Machine Learning Specialist      Data & Analytics   \n",
       "26              Senior People Operations Specialist         People & Home   \n",
       "27  Senior Product Manager, Teams and Collaboration               Product   \n",
       "28  Senior Product Partnerships Manager (US Remote)               Product   \n",
       "29                                 Senior Recruiter         People & Home   \n",
       "30             Senior Software Engineer (Remote EU)           Engineering   \n",
       "31                                    Senior Writer             Marketing   \n",
       "32                      Strategy and M&A Specialist              Strategy   \n",
       "33                                  Strategy Intern               General   \n",
       "34             Video Learning Production Specialist      Customer Success   \n",
       "35                       VP of Engineering, Product           Engineering   \n",
       "36                    VP of Engineering, Technology           Engineering   \n",
       "37                          VP of People Experience         People & Home   \n",
       "\n",
       "                                              Link  \n",
       "0   https://www.typeform.com/careers/jobs/2544011/  \n",
       "1   https://www.typeform.com/careers/jobs/2951809/  \n",
       "2   https://www.typeform.com/careers/jobs/3029880/  \n",
       "3   https://www.typeform.com/careers/jobs/3032701/  \n",
       "4   https://www.typeform.com/careers/jobs/3033493/  \n",
       "5   https://www.typeform.com/careers/jobs/2945097/  \n",
       "6   https://www.typeform.com/careers/jobs/2871412/  \n",
       "7   https://www.typeform.com/careers/jobs/2995743/  \n",
       "8   https://www.typeform.com/careers/jobs/3033537/  \n",
       "9   https://www.typeform.com/careers/jobs/2450368/  \n",
       "10  https://www.typeform.com/careers/jobs/2086710/  \n",
       "11  https://www.typeform.com/careers/jobs/2430519/  \n",
       "12  https://www.typeform.com/careers/jobs/2995658/  \n",
       "13  https://www.typeform.com/careers/jobs/2764213/  \n",
       "14  https://www.typeform.com/careers/jobs/2984780/  \n",
       "15  https://www.typeform.com/careers/jobs/2590346/  \n",
       "16  https://www.typeform.com/careers/jobs/2986613/  \n",
       "17  https://www.typeform.com/careers/jobs/2949390/  \n",
       "18  https://www.typeform.com/careers/jobs/2750994/  \n",
       "19  https://www.typeform.com/careers/jobs/2699798/  \n",
       "20  https://www.typeform.com/careers/jobs/2236103/  \n",
       "21  https://www.typeform.com/careers/jobs/2590989/  \n",
       "22  https://www.typeform.com/careers/jobs/2991716/  \n",
       "23  https://www.typeform.com/careers/jobs/2873940/  \n",
       "24  https://www.typeform.com/careers/jobs/2965949/  \n",
       "25  https://www.typeform.com/careers/jobs/2551597/  \n",
       "26  https://www.typeform.com/careers/jobs/2928166/  \n",
       "27  https://www.typeform.com/careers/jobs/2674101/  \n",
       "28  https://www.typeform.com/careers/jobs/2966982/  \n",
       "29  https://www.typeform.com/careers/jobs/2935909/  \n",
       "30  https://www.typeform.com/careers/jobs/2626370/  \n",
       "31  https://www.typeform.com/careers/jobs/2967353/  \n",
       "32  https://www.typeform.com/careers/jobs/2930327/  \n",
       "33  https://www.typeform.com/careers/jobs/3020997/  \n",
       "34  https://www.typeform.com/careers/jobs/2689018/  \n",
       "35  https://www.typeform.com/careers/jobs/2976178/  \n",
       "36  https://www.typeform.com/careers/jobs/2948502/  \n",
       "37  https://www.typeform.com/careers/jobs/2933242/  "
      ],
      "text/html": "<div>\n<style scoped>\n    .dataframe tbody tr th:only-of-type {\n        vertical-align: middle;\n    }\n\n    .dataframe tbody tr th {\n        vertical-align: top;\n    }\n\n    .dataframe thead th {\n        text-align: right;\n    }\n</style>\n<table border=\"1\" class=\"dataframe\">\n  <thead>\n    <tr style=\"text-align: right;\">\n      <th></th>\n      <th>Position</th>\n      <th>Team</th>\n      <th>Link</th>\n    </tr>\n  </thead>\n  <tbody>\n    <tr>\n      <th>0</th>\n      <td>Account Executive (US remote)</td>\n      <td>Business Development</td>\n      <td>https://www.typeform.com/careers/jobs/2544011/</td>\n    </tr>\n    <tr>\n      <th>1</th>\n      <td>Build &amp; Release Manager</td>\n      <td>Engineering</td>\n      <td>https://www.typeform.com/careers/jobs/2951809/</td>\n    </tr>\n    <tr>\n      <th>2</th>\n      <td>Community Support Advocate</td>\n      <td>Customer Success</td>\n      <td>https://www.typeform.com/careers/jobs/3029880/</td>\n    </tr>\n    <tr>\n      <th>3</th>\n      <td>Corporate FP&amp;A Manager</td>\n      <td>Finance &amp; Legal</td>\n      <td>https://www.typeform.com/careers/jobs/3032701/</td>\n    </tr>\n    <tr>\n      <th>4</th>\n      <td>Customer Success Manager (US Remote)</td>\n      <td>Customer Success</td>\n      <td>https://www.typeform.com/careers/jobs/3033493/</td>\n    </tr>\n    <tr>\n      <th>5</th>\n      <td>Customer Support Advocate (VideoAsk)</td>\n      <td>Customer Success</td>\n      <td>https://www.typeform.com/careers/jobs/2945097/</td>\n    </tr>\n    <tr>\n      <th>6</th>\n      <td>Data Devops</td>\n      <td>Data &amp; Analytics</td>\n      <td>https://www.typeform.com/careers/jobs/2871412/</td>\n    </tr>\n    <tr>\n      <th>7</th>\n      <td>Data Warehouse Architect</td>\n      <td>Data &amp; Analytics</td>\n      <td>https://www.typeform.com/careers/jobs/2995743/</td>\n    </tr>\n    <tr>\n      <th>8</th>\n      <td>Director of Strategy &amp; Organization</td>\n      <td>Strategy</td>\n      <td>https://www.typeform.com/careers/jobs/3033537/</td>\n    </tr>\n    <tr>\n      <th>9</th>\n      <td>Engineering Manager</td>\n      <td>Engineering</td>\n      <td>https://www.typeform.com/careers/jobs/2450368/</td>\n    </tr>\n    <tr>\n      <th>10</th>\n      <td>General Hiring</td>\n      <td>General</td>\n      <td>https://www.typeform.com/careers/jobs/2086710/</td>\n    </tr>\n    <tr>\n      <th>11</th>\n      <td>Head of Data Science &amp; Analytics</td>\n      <td>Data &amp; Analytics</td>\n      <td>https://www.typeform.com/careers/jobs/2430519/</td>\n    </tr>\n    <tr>\n      <th>12</th>\n      <td>Head of  Machine Learning</td>\n      <td>Data &amp; Analytics</td>\n      <td>https://www.typeform.com/careers/jobs/2995658/</td>\n    </tr>\n    <tr>\n      <th>13</th>\n      <td>Inbound SDR  (Remote US)</td>\n      <td>Business Development</td>\n      <td>https://www.typeform.com/careers/jobs/2764213/</td>\n    </tr>\n    <tr>\n      <th>14</th>\n      <td>Principal Product Designer - VideoAsk</td>\n      <td>Design</td>\n      <td>https://www.typeform.com/careers/jobs/2984780/</td>\n    </tr>\n    <tr>\n      <th>15</th>\n      <td>Producer</td>\n      <td>Design</td>\n      <td>https://www.typeform.com/careers/jobs/2590346/</td>\n    </tr>\n    <tr>\n      <th>16</th>\n      <td>Product Director - VideoAsk</td>\n      <td>Product</td>\n      <td>https://www.typeform.com/careers/jobs/2986613/</td>\n    </tr>\n    <tr>\n      <th>17</th>\n      <td>Product Manager - Workflows</td>\n      <td>Product</td>\n      <td>https://www.typeform.com/careers/jobs/2949390/</td>\n    </tr>\n    <tr>\n      <th>18</th>\n      <td>QA Manager</td>\n      <td>Engineering</td>\n      <td>https://www.typeform.com/careers/jobs/2750994/</td>\n    </tr>\n    <tr>\n      <th>19</th>\n      <td>Senior Data Scientist - Customer Success</td>\n      <td>Data &amp; Analytics</td>\n      <td>https://www.typeform.com/careers/jobs/2699798/</td>\n    </tr>\n    <tr>\n      <th>20</th>\n      <td>Senior Designer</td>\n      <td>Design</td>\n      <td>https://www.typeform.com/careers/jobs/2236103/</td>\n    </tr>\n    <tr>\n      <th>21</th>\n      <td>Senior Designer - Growth</td>\n      <td>Design</td>\n      <td>https://www.typeform.com/careers/jobs/2590989/</td>\n    </tr>\n    <tr>\n      <th>22</th>\n      <td>Senior DevOps Engineer</td>\n      <td>Engineering</td>\n      <td>https://www.typeform.com/careers/jobs/2991716/</td>\n    </tr>\n    <tr>\n      <th>23</th>\n      <td>Senior Frontend Engineer</td>\n      <td>Engineering</td>\n      <td>https://www.typeform.com/careers/jobs/2873940/</td>\n    </tr>\n    <tr>\n      <th>24</th>\n      <td>Senior HR Business Partner (Engineering)</td>\n      <td>People &amp; Home</td>\n      <td>https://www.typeform.com/careers/jobs/2965949/</td>\n    </tr>\n    <tr>\n      <th>25</th>\n      <td>Senior Machine Learning Specialist</td>\n      <td>Data &amp; Analytics</td>\n      <td>https://www.typeform.com/careers/jobs/2551597/</td>\n    </tr>\n    <tr>\n      <th>26</th>\n      <td>Senior People Operations Specialist</td>\n      <td>People &amp; Home</td>\n      <td>https://www.typeform.com/careers/jobs/2928166/</td>\n    </tr>\n    <tr>\n      <th>27</th>\n      <td>Senior Product Manager, Teams and Collaboration</td>\n      <td>Product</td>\n      <td>https://www.typeform.com/careers/jobs/2674101/</td>\n    </tr>\n    <tr>\n      <th>28</th>\n      <td>Senior Product Partnerships Manager (US Remote)</td>\n      <td>Product</td>\n      <td>https://www.typeform.com/careers/jobs/2966982/</td>\n    </tr>\n    <tr>\n      <th>29</th>\n      <td>Senior Recruiter</td>\n      <td>People &amp; Home</td>\n      <td>https://www.typeform.com/careers/jobs/2935909/</td>\n    </tr>\n    <tr>\n      <th>30</th>\n      <td>Senior Software Engineer (Remote EU)</td>\n      <td>Engineering</td>\n      <td>https://www.typeform.com/careers/jobs/2626370/</td>\n    </tr>\n    <tr>\n      <th>31</th>\n      <td>Senior Writer</td>\n      <td>Marketing</td>\n      <td>https://www.typeform.com/careers/jobs/2967353/</td>\n    </tr>\n    <tr>\n      <th>32</th>\n      <td>Strategy and M&amp;A Specialist</td>\n      <td>Strategy</td>\n      <td>https://www.typeform.com/careers/jobs/2930327/</td>\n    </tr>\n    <tr>\n      <th>33</th>\n      <td>Strategy Intern</td>\n      <td>General</td>\n      <td>https://www.typeform.com/careers/jobs/3020997/</td>\n    </tr>\n    <tr>\n      <th>34</th>\n      <td>Video Learning Production Specialist</td>\n      <td>Customer Success</td>\n      <td>https://www.typeform.com/careers/jobs/2689018/</td>\n    </tr>\n    <tr>\n      <th>35</th>\n      <td>VP of Engineering, Product</td>\n      <td>Engineering</td>\n      <td>https://www.typeform.com/careers/jobs/2976178/</td>\n    </tr>\n    <tr>\n      <th>36</th>\n      <td>VP of Engineering, Technology</td>\n      <td>Engineering</td>\n      <td>https://www.typeform.com/careers/jobs/2948502/</td>\n    </tr>\n    <tr>\n      <th>37</th>\n      <td>VP of People Experience</td>\n      <td>People &amp; Home</td>\n      <td>https://www.typeform.com/careers/jobs/2933242/</td>\n    </tr>\n  </tbody>\n</table>\n</div>"
     },
     "metadata": {},
     "execution_count": 6
    }
   ],
   "source": [
    "jobs_df = pd.DataFrame(jobs_dict)\n",
    "jobs_df"
   ]
  },
  {
   "source": [
    "### Sort DataFrame"
   ],
   "cell_type": "markdown",
   "metadata": {}
  },
  {
   "cell_type": "code",
   "execution_count": 7,
   "metadata": {},
   "outputs": [
    {
     "output_type": "execute_result",
     "data": {
      "text/plain": [
       "                                           Position                  Team  \\\n",
       "0                     Account Executive (US remote)  Business Development   \n",
       "1                          Inbound SDR  (Remote US)  Business Development   \n",
       "2              Customer Support Advocate (VideoAsk)      Customer Success   \n",
       "3              Customer Success Manager (US Remote)      Customer Success   \n",
       "4              Video Learning Production Specialist      Customer Success   \n",
       "5                        Community Support Advocate      Customer Success   \n",
       "6                                       Data Devops      Data & Analytics   \n",
       "7                          Data Warehouse Architect      Data & Analytics   \n",
       "8                Senior Machine Learning Specialist      Data & Analytics   \n",
       "9          Senior Data Scientist - Customer Success      Data & Analytics   \n",
       "10                        Head of  Machine Learning      Data & Analytics   \n",
       "11                 Head of Data Science & Analytics      Data & Analytics   \n",
       "12                                  Senior Designer                Design   \n",
       "13                                         Producer                Design   \n",
       "14                         Senior Designer - Growth                Design   \n",
       "15            Principal Product Designer - VideoAsk                Design   \n",
       "16                          Build & Release Manager           Engineering   \n",
       "17                    VP of Engineering, Technology           Engineering   \n",
       "18                       VP of Engineering, Product           Engineering   \n",
       "19             Senior Software Engineer (Remote EU)           Engineering   \n",
       "20                         Senior Frontend Engineer           Engineering   \n",
       "21                           Senior DevOps Engineer           Engineering   \n",
       "22                                       QA Manager           Engineering   \n",
       "23                              Engineering Manager           Engineering   \n",
       "24                           Corporate FP&A Manager       Finance & Legal   \n",
       "25                                   General Hiring               General   \n",
       "26                                  Strategy Intern               General   \n",
       "27                                    Senior Writer             Marketing   \n",
       "28         Senior HR Business Partner (Engineering)         People & Home   \n",
       "29                                 Senior Recruiter         People & Home   \n",
       "30                          VP of People Experience         People & Home   \n",
       "31              Senior People Operations Specialist         People & Home   \n",
       "32  Senior Product Manager, Teams and Collaboration               Product   \n",
       "33  Senior Product Partnerships Manager (US Remote)               Product   \n",
       "34                      Product Manager - Workflows               Product   \n",
       "35                      Product Director - VideoAsk               Product   \n",
       "36              Director of Strategy & Organization              Strategy   \n",
       "37                      Strategy and M&A Specialist              Strategy   \n",
       "\n",
       "                                              Link  \n",
       "0   https://www.typeform.com/careers/jobs/2544011/  \n",
       "1   https://www.typeform.com/careers/jobs/2764213/  \n",
       "2   https://www.typeform.com/careers/jobs/2945097/  \n",
       "3   https://www.typeform.com/careers/jobs/3033493/  \n",
       "4   https://www.typeform.com/careers/jobs/2689018/  \n",
       "5   https://www.typeform.com/careers/jobs/3029880/  \n",
       "6   https://www.typeform.com/careers/jobs/2871412/  \n",
       "7   https://www.typeform.com/careers/jobs/2995743/  \n",
       "8   https://www.typeform.com/careers/jobs/2551597/  \n",
       "9   https://www.typeform.com/careers/jobs/2699798/  \n",
       "10  https://www.typeform.com/careers/jobs/2995658/  \n",
       "11  https://www.typeform.com/careers/jobs/2430519/  \n",
       "12  https://www.typeform.com/careers/jobs/2236103/  \n",
       "13  https://www.typeform.com/careers/jobs/2590346/  \n",
       "14  https://www.typeform.com/careers/jobs/2590989/  \n",
       "15  https://www.typeform.com/careers/jobs/2984780/  \n",
       "16  https://www.typeform.com/careers/jobs/2951809/  \n",
       "17  https://www.typeform.com/careers/jobs/2948502/  \n",
       "18  https://www.typeform.com/careers/jobs/2976178/  \n",
       "19  https://www.typeform.com/careers/jobs/2626370/  \n",
       "20  https://www.typeform.com/careers/jobs/2873940/  \n",
       "21  https://www.typeform.com/careers/jobs/2991716/  \n",
       "22  https://www.typeform.com/careers/jobs/2750994/  \n",
       "23  https://www.typeform.com/careers/jobs/2450368/  \n",
       "24  https://www.typeform.com/careers/jobs/3032701/  \n",
       "25  https://www.typeform.com/careers/jobs/2086710/  \n",
       "26  https://www.typeform.com/careers/jobs/3020997/  \n",
       "27  https://www.typeform.com/careers/jobs/2967353/  \n",
       "28  https://www.typeform.com/careers/jobs/2965949/  \n",
       "29  https://www.typeform.com/careers/jobs/2935909/  \n",
       "30  https://www.typeform.com/careers/jobs/2933242/  \n",
       "31  https://www.typeform.com/careers/jobs/2928166/  \n",
       "32  https://www.typeform.com/careers/jobs/2674101/  \n",
       "33  https://www.typeform.com/careers/jobs/2966982/  \n",
       "34  https://www.typeform.com/careers/jobs/2949390/  \n",
       "35  https://www.typeform.com/careers/jobs/2986613/  \n",
       "36  https://www.typeform.com/careers/jobs/3033537/  \n",
       "37  https://www.typeform.com/careers/jobs/2930327/  "
      ],
      "text/html": "<div>\n<style scoped>\n    .dataframe tbody tr th:only-of-type {\n        vertical-align: middle;\n    }\n\n    .dataframe tbody tr th {\n        vertical-align: top;\n    }\n\n    .dataframe thead th {\n        text-align: right;\n    }\n</style>\n<table border=\"1\" class=\"dataframe\">\n  <thead>\n    <tr style=\"text-align: right;\">\n      <th></th>\n      <th>Position</th>\n      <th>Team</th>\n      <th>Link</th>\n    </tr>\n  </thead>\n  <tbody>\n    <tr>\n      <th>0</th>\n      <td>Account Executive (US remote)</td>\n      <td>Business Development</td>\n      <td>https://www.typeform.com/careers/jobs/2544011/</td>\n    </tr>\n    <tr>\n      <th>1</th>\n      <td>Inbound SDR  (Remote US)</td>\n      <td>Business Development</td>\n      <td>https://www.typeform.com/careers/jobs/2764213/</td>\n    </tr>\n    <tr>\n      <th>2</th>\n      <td>Customer Support Advocate (VideoAsk)</td>\n      <td>Customer Success</td>\n      <td>https://www.typeform.com/careers/jobs/2945097/</td>\n    </tr>\n    <tr>\n      <th>3</th>\n      <td>Customer Success Manager (US Remote)</td>\n      <td>Customer Success</td>\n      <td>https://www.typeform.com/careers/jobs/3033493/</td>\n    </tr>\n    <tr>\n      <th>4</th>\n      <td>Video Learning Production Specialist</td>\n      <td>Customer Success</td>\n      <td>https://www.typeform.com/careers/jobs/2689018/</td>\n    </tr>\n    <tr>\n      <th>5</th>\n      <td>Community Support Advocate</td>\n      <td>Customer Success</td>\n      <td>https://www.typeform.com/careers/jobs/3029880/</td>\n    </tr>\n    <tr>\n      <th>6</th>\n      <td>Data Devops</td>\n      <td>Data &amp; Analytics</td>\n      <td>https://www.typeform.com/careers/jobs/2871412/</td>\n    </tr>\n    <tr>\n      <th>7</th>\n      <td>Data Warehouse Architect</td>\n      <td>Data &amp; Analytics</td>\n      <td>https://www.typeform.com/careers/jobs/2995743/</td>\n    </tr>\n    <tr>\n      <th>8</th>\n      <td>Senior Machine Learning Specialist</td>\n      <td>Data &amp; Analytics</td>\n      <td>https://www.typeform.com/careers/jobs/2551597/</td>\n    </tr>\n    <tr>\n      <th>9</th>\n      <td>Senior Data Scientist - Customer Success</td>\n      <td>Data &amp; Analytics</td>\n      <td>https://www.typeform.com/careers/jobs/2699798/</td>\n    </tr>\n    <tr>\n      <th>10</th>\n      <td>Head of  Machine Learning</td>\n      <td>Data &amp; Analytics</td>\n      <td>https://www.typeform.com/careers/jobs/2995658/</td>\n    </tr>\n    <tr>\n      <th>11</th>\n      <td>Head of Data Science &amp; Analytics</td>\n      <td>Data &amp; Analytics</td>\n      <td>https://www.typeform.com/careers/jobs/2430519/</td>\n    </tr>\n    <tr>\n      <th>12</th>\n      <td>Senior Designer</td>\n      <td>Design</td>\n      <td>https://www.typeform.com/careers/jobs/2236103/</td>\n    </tr>\n    <tr>\n      <th>13</th>\n      <td>Producer</td>\n      <td>Design</td>\n      <td>https://www.typeform.com/careers/jobs/2590346/</td>\n    </tr>\n    <tr>\n      <th>14</th>\n      <td>Senior Designer - Growth</td>\n      <td>Design</td>\n      <td>https://www.typeform.com/careers/jobs/2590989/</td>\n    </tr>\n    <tr>\n      <th>15</th>\n      <td>Principal Product Designer - VideoAsk</td>\n      <td>Design</td>\n      <td>https://www.typeform.com/careers/jobs/2984780/</td>\n    </tr>\n    <tr>\n      <th>16</th>\n      <td>Build &amp; Release Manager</td>\n      <td>Engineering</td>\n      <td>https://www.typeform.com/careers/jobs/2951809/</td>\n    </tr>\n    <tr>\n      <th>17</th>\n      <td>VP of Engineering, Technology</td>\n      <td>Engineering</td>\n      <td>https://www.typeform.com/careers/jobs/2948502/</td>\n    </tr>\n    <tr>\n      <th>18</th>\n      <td>VP of Engineering, Product</td>\n      <td>Engineering</td>\n      <td>https://www.typeform.com/careers/jobs/2976178/</td>\n    </tr>\n    <tr>\n      <th>19</th>\n      <td>Senior Software Engineer (Remote EU)</td>\n      <td>Engineering</td>\n      <td>https://www.typeform.com/careers/jobs/2626370/</td>\n    </tr>\n    <tr>\n      <th>20</th>\n      <td>Senior Frontend Engineer</td>\n      <td>Engineering</td>\n      <td>https://www.typeform.com/careers/jobs/2873940/</td>\n    </tr>\n    <tr>\n      <th>21</th>\n      <td>Senior DevOps Engineer</td>\n      <td>Engineering</td>\n      <td>https://www.typeform.com/careers/jobs/2991716/</td>\n    </tr>\n    <tr>\n      <th>22</th>\n      <td>QA Manager</td>\n      <td>Engineering</td>\n      <td>https://www.typeform.com/careers/jobs/2750994/</td>\n    </tr>\n    <tr>\n      <th>23</th>\n      <td>Engineering Manager</td>\n      <td>Engineering</td>\n      <td>https://www.typeform.com/careers/jobs/2450368/</td>\n    </tr>\n    <tr>\n      <th>24</th>\n      <td>Corporate FP&amp;A Manager</td>\n      <td>Finance &amp; Legal</td>\n      <td>https://www.typeform.com/careers/jobs/3032701/</td>\n    </tr>\n    <tr>\n      <th>25</th>\n      <td>General Hiring</td>\n      <td>General</td>\n      <td>https://www.typeform.com/careers/jobs/2086710/</td>\n    </tr>\n    <tr>\n      <th>26</th>\n      <td>Strategy Intern</td>\n      <td>General</td>\n      <td>https://www.typeform.com/careers/jobs/3020997/</td>\n    </tr>\n    <tr>\n      <th>27</th>\n      <td>Senior Writer</td>\n      <td>Marketing</td>\n      <td>https://www.typeform.com/careers/jobs/2967353/</td>\n    </tr>\n    <tr>\n      <th>28</th>\n      <td>Senior HR Business Partner (Engineering)</td>\n      <td>People &amp; Home</td>\n      <td>https://www.typeform.com/careers/jobs/2965949/</td>\n    </tr>\n    <tr>\n      <th>29</th>\n      <td>Senior Recruiter</td>\n      <td>People &amp; Home</td>\n      <td>https://www.typeform.com/careers/jobs/2935909/</td>\n    </tr>\n    <tr>\n      <th>30</th>\n      <td>VP of People Experience</td>\n      <td>People &amp; Home</td>\n      <td>https://www.typeform.com/careers/jobs/2933242/</td>\n    </tr>\n    <tr>\n      <th>31</th>\n      <td>Senior People Operations Specialist</td>\n      <td>People &amp; Home</td>\n      <td>https://www.typeform.com/careers/jobs/2928166/</td>\n    </tr>\n    <tr>\n      <th>32</th>\n      <td>Senior Product Manager, Teams and Collaboration</td>\n      <td>Product</td>\n      <td>https://www.typeform.com/careers/jobs/2674101/</td>\n    </tr>\n    <tr>\n      <th>33</th>\n      <td>Senior Product Partnerships Manager (US Remote)</td>\n      <td>Product</td>\n      <td>https://www.typeform.com/careers/jobs/2966982/</td>\n    </tr>\n    <tr>\n      <th>34</th>\n      <td>Product Manager - Workflows</td>\n      <td>Product</td>\n      <td>https://www.typeform.com/careers/jobs/2949390/</td>\n    </tr>\n    <tr>\n      <th>35</th>\n      <td>Product Director - VideoAsk</td>\n      <td>Product</td>\n      <td>https://www.typeform.com/careers/jobs/2986613/</td>\n    </tr>\n    <tr>\n      <th>36</th>\n      <td>Director of Strategy &amp; Organization</td>\n      <td>Strategy</td>\n      <td>https://www.typeform.com/careers/jobs/3033537/</td>\n    </tr>\n    <tr>\n      <th>37</th>\n      <td>Strategy and M&amp;A Specialist</td>\n      <td>Strategy</td>\n      <td>https://www.typeform.com/careers/jobs/2930327/</td>\n    </tr>\n  </tbody>\n</table>\n</div>"
     },
     "metadata": {},
     "execution_count": 7
    }
   ],
   "source": [
    "jobs_df.sort_values(by='Position', inplace=True)\n",
    "jobs_df.sort_values(by='Team', inplace=True)\n",
    "jobs_df.reset_index(inplace=True)\n",
    "jobs_df.drop(columns='index', inplace=True)\n",
    "jobs_df"
   ]
  },
  {
   "source": [
    "## Analysis"
   ],
   "cell_type": "markdown",
   "metadata": {}
  },
  {
   "source": [
    "### Total job openings"
   ],
   "cell_type": "markdown",
   "metadata": {}
  },
  {
   "cell_type": "code",
   "execution_count": 8,
   "metadata": {},
   "outputs": [
    {
     "output_type": "stream",
     "name": "stdout",
     "text": [
      "There are 38 job openings at Typeform right now.\n"
     ]
    }
   ],
   "source": [
    "total = jobs_df['Position'].value_counts().sum()\n",
    "print(f'There are {total} job openings at Typeform right now.')"
   ]
  },
  {
   "source": [
    "### Teams with more job openings"
   ],
   "cell_type": "markdown",
   "metadata": {}
  },
  {
   "cell_type": "code",
   "execution_count": 9,
   "metadata": {},
   "outputs": [
    {
     "output_type": "stream",
     "name": "stdout",
     "text": [
      "The team with more job openings is \"Engineering\" with 8 open positions, followed by \"Data & Analytics\" with 6 open positions.\n"
     ]
    }
   ],
   "source": [
    "team1_name = jobs_df['Team'].value_counts().nlargest(1).index[0]\n",
    "team1_number = jobs_df['Team'].value_counts()[0]\n",
    "team2_name = jobs_df['Team'].value_counts().nlargest(2).index[1]\n",
    "team2_number = jobs_df['Team'].value_counts()[1]\n",
    "print(f'The team with more job openings is \"{team1_name}\" with {team1_number} open positions, followed by \"{team2_name}\" with {team2_number} open positions.')"
   ]
  },
  {
   "source": [
    "## Export"
   ],
   "cell_type": "markdown",
   "metadata": {}
  },
  {
   "cell_type": "code",
   "execution_count": 10,
   "metadata": {},
   "outputs": [],
   "source": [
    "jobs_df.to_csv('2-job-openings.csv', sep=',', index=False)"
   ]
  }
 ]
}
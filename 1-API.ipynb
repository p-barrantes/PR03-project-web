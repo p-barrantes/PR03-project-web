{
 "metadata": {
  "language_info": {
   "codemirror_mode": {
    "name": "ipython",
    "version": 3
   },
   "file_extension": ".py",
   "mimetype": "text/x-python",
   "name": "python",
   "nbconvert_exporter": "python",
   "pygments_lexer": "ipython3",
   "version": "3.8.5-final"
  },
  "orig_nbformat": 2,
  "kernelspec": {
   "name": "python385jvsc74a57bd0dca0ade3e726a953b501b15e8e990130d2b7799f14cfd9f4271676035ebe5511",
   "display_name": "Python 3.8.5 64-bit ('base': conda)"
  }
 },
 "nbformat": 4,
 "nbformat_minor": 2,
 "cells": [
  {
   "source": [
    "# API\n",
    "\n",
    "In this first part, we will extract all the Glassdoor reviews about Typeform. With these, you will be able to have a proper overview of the current status of the company from an employee point of view, and make a good judgement call on whether this is the company you would like to work at."
   ],
   "cell_type": "markdown",
   "metadata": {}
  },
  {
   "source": [
    "## Libraries"
   ],
   "cell_type": "markdown",
   "metadata": {}
  },
  {
   "cell_type": "code",
   "execution_count": 1,
   "metadata": {},
   "outputs": [],
   "source": [
    "import json\n",
    "import requests\n",
    "import pandas as pd\n",
    "from pandas.io.json import json_normalize\n",
    "import datetime as dt"
   ]
  },
  {
   "source": [
    "## Obtaining the link and Reading the data"
   ],
   "cell_type": "markdown",
   "metadata": {}
  },
  {
   "cell_type": "code",
   "execution_count": 2,
   "metadata": {},
   "outputs": [],
   "source": [
    "token = ''"
   ]
  },
  {
   "cell_type": "code",
   "execution_count": 3,
   "metadata": {},
   "outputs": [],
   "source": [
    "url = 'https://wextractor.com/api/v1/reviews/glassdoor?id=991912&language=en&auth_token=' + token"
   ]
  },
  {
   "cell_type": "code",
   "execution_count": 4,
   "metadata": {},
   "outputs": [],
   "source": [
    "response = requests.get(url).json()"
   ]
  },
  {
   "cell_type": "code",
   "execution_count": 5,
   "metadata": {},
   "outputs": [
    {
     "output_type": "execute_result",
     "data": {
      "text/plain": [
       "                                                 url rating  \\\n",
       "0  https://www.glassdoor.com/Reviews/Employee-Rev...      3   \n",
       "1  https://www.glassdoor.com/Reviews/Employee-Rev...      5   \n",
       "2  https://www.glassdoor.com/Reviews/Employee-Rev...      5   \n",
       "3  https://www.glassdoor.com/Reviews/Employee-Rev...      5   \n",
       "4  https://www.glassdoor.com/Reviews/Employee-Rev...      5   \n",
       "\n",
       "                     title                                               pros  \\\n",
       "0     Good product bad pay      The product is amazing and so are the people!   \n",
       "1         I love Typeform!                        Good CEO, salary &amp; time   \n",
       "2                     Good                      This is no pros and i like it   \n",
       "3  Best onboarding ever. 🤩  Professional, driven and empathetic humans who...   \n",
       "4                 Feedback  Smooth interview process. Friendly and Authent...   \n",
       "\n",
       "                                                cons  \\\n",
       "0   Not the greatest base pay and no real leadership   \n",
       "1              Coffee, lunch and snacks and time off   \n",
       "2             Highly efficient and care for employes   \n",
       "3  Timezone workarounds due to international hybr...   \n",
       "4        So far no need for constructive feedback :)   \n",
       "\n",
       "                                              advice           reviewer  \\\n",
       "0                                               None  Account Executive   \n",
       "1                                               None     Growth Manager   \n",
       "2                                               None         Data Entry   \n",
       "3  One day, it would be absolutely amazing to acq...               None   \n",
       "4                                               None         People Ops   \n",
       "\n",
       "                  datetime language        id  \n",
       "0  2021-03-13T16:30:31.267       en  43952934  \n",
       "1  2021-03-04T17:59:06.410       en  43500767  \n",
       "2  2021-03-02T19:37:32.570       en  43372871  \n",
       "3  2021-02-11T21:37:06.797       en  42376252  \n",
       "4  2021-02-10T06:24:51.197       en  42259875  "
      ],
      "text/html": "<div>\n<style scoped>\n    .dataframe tbody tr th:only-of-type {\n        vertical-align: middle;\n    }\n\n    .dataframe tbody tr th {\n        vertical-align: top;\n    }\n\n    .dataframe thead th {\n        text-align: right;\n    }\n</style>\n<table border=\"1\" class=\"dataframe\">\n  <thead>\n    <tr style=\"text-align: right;\">\n      <th></th>\n      <th>url</th>\n      <th>rating</th>\n      <th>title</th>\n      <th>pros</th>\n      <th>cons</th>\n      <th>advice</th>\n      <th>reviewer</th>\n      <th>datetime</th>\n      <th>language</th>\n      <th>id</th>\n    </tr>\n  </thead>\n  <tbody>\n    <tr>\n      <th>0</th>\n      <td>https://www.glassdoor.com/Reviews/Employee-Rev...</td>\n      <td>3</td>\n      <td>Good product bad pay</td>\n      <td>The product is amazing and so are the people!</td>\n      <td>Not the greatest base pay and no real leadership</td>\n      <td>None</td>\n      <td>Account Executive</td>\n      <td>2021-03-13T16:30:31.267</td>\n      <td>en</td>\n      <td>43952934</td>\n    </tr>\n    <tr>\n      <th>1</th>\n      <td>https://www.glassdoor.com/Reviews/Employee-Rev...</td>\n      <td>5</td>\n      <td>I love Typeform!</td>\n      <td>Good CEO, salary &amp;amp; time</td>\n      <td>Coffee, lunch and snacks and time off</td>\n      <td>None</td>\n      <td>Growth Manager</td>\n      <td>2021-03-04T17:59:06.410</td>\n      <td>en</td>\n      <td>43500767</td>\n    </tr>\n    <tr>\n      <th>2</th>\n      <td>https://www.glassdoor.com/Reviews/Employee-Rev...</td>\n      <td>5</td>\n      <td>Good</td>\n      <td>This is no pros and i like it</td>\n      <td>Highly efficient and care for employes</td>\n      <td>None</td>\n      <td>Data Entry</td>\n      <td>2021-03-02T19:37:32.570</td>\n      <td>en</td>\n      <td>43372871</td>\n    </tr>\n    <tr>\n      <th>3</th>\n      <td>https://www.glassdoor.com/Reviews/Employee-Rev...</td>\n      <td>5</td>\n      <td>Best onboarding ever. 🤩</td>\n      <td>Professional, driven and empathetic humans who...</td>\n      <td>Timezone workarounds due to international hybr...</td>\n      <td>One day, it would be absolutely amazing to acq...</td>\n      <td>None</td>\n      <td>2021-02-11T21:37:06.797</td>\n      <td>en</td>\n      <td>42376252</td>\n    </tr>\n    <tr>\n      <th>4</th>\n      <td>https://www.glassdoor.com/Reviews/Employee-Rev...</td>\n      <td>5</td>\n      <td>Feedback</td>\n      <td>Smooth interview process. Friendly and Authent...</td>\n      <td>So far no need for constructive feedback :)</td>\n      <td>None</td>\n      <td>People Ops</td>\n      <td>2021-02-10T06:24:51.197</td>\n      <td>en</td>\n      <td>42259875</td>\n    </tr>\n  </tbody>\n</table>\n</div>"
     },
     "metadata": {},
     "execution_count": 5
    }
   ],
   "source": [
    "glassdoor = pd.json_normalize(response['reviews'])\n",
    "glassdoor.head()"
   ]
  },
  {
   "source": [
    "### Total Pages"
   ],
   "cell_type": "markdown",
   "metadata": {}
  },
  {
   "cell_type": "code",
   "execution_count": 6,
   "metadata": {},
   "outputs": [
    {
     "output_type": "stream",
     "name": "stdout",
     "text": [
      "There are 11 pages.\n"
     ]
    }
   ],
   "source": [
    "number_reviews = response['totals']['review_count']\n",
    "pages = int(round(number_reviews / len(glassdoor)))\n",
    "print(f'There are {pages} pages.')"
   ]
  },
  {
   "source": [
    "### Total Reviews"
   ],
   "cell_type": "markdown",
   "metadata": {}
  },
  {
   "cell_type": "code",
   "execution_count": 7,
   "metadata": {},
   "outputs": [],
   "source": [
    "total_reviews = []\n",
    "offset = 0\n",
    "\n",
    "for page in range(pages):\n",
    "    total_response = requests.get(url + '&offset='+str(offset)).json()\n",
    "    offset = offset + 10\n",
    "    total_reviews.append(pd.json_normalize(total_response['reviews']))"
   ]
  },
  {
   "cell_type": "code",
   "execution_count": 8,
   "metadata": {},
   "outputs": [
    {
     "output_type": "stream",
     "name": "stdout",
     "text": [
      "<class 'pandas.core.frame.DataFrame'>\nRangeIndex: 108 entries, 0 to 107\nData columns (total 8 columns):\n #   Column    Non-Null Count  Dtype \n---  ------    --------------  ----- \n 0   url       108 non-null    object\n 1   rating    108 non-null    object\n 2   title     108 non-null    object\n 3   pros      108 non-null    object\n 4   cons      108 non-null    object\n 5   advice    65 non-null     object\n 6   reviewer  73 non-null     object\n 7   datetime  108 non-null    object\ndtypes: object(8)\nmemory usage: 6.9+ KB\n"
     ]
    }
   ],
   "source": [
    "glassdoor = pd.concat(total_reviews)\n",
    "glassdoor.reset_index(inplace=True)\n",
    "glassdoor.drop(columns=['index', 'language', 'id'], inplace=True)\n",
    "glassdoor.info()"
   ]
  },
  {
   "cell_type": "code",
   "execution_count": 9,
   "metadata": {},
   "outputs": [],
   "source": [
    "glassdoor['date'] = pd.to_datetime(glassdoor['datetime']).dt.strftime('%Y-%m-%d')"
   ]
  },
  {
   "cell_type": "code",
   "execution_count": 10,
   "metadata": {},
   "outputs": [],
   "source": [
    "glassdoor['rating'] = pd.to_numeric(glassdoor['rating'])"
   ]
  },
  {
   "cell_type": "code",
   "execution_count": 11,
   "metadata": {},
   "outputs": [
    {
     "output_type": "execute_result",
     "data": {
      "text/plain": [
       "['url',\n",
       " 'rating',\n",
       " 'title',\n",
       " 'pros',\n",
       " 'cons',\n",
       " 'advice',\n",
       " 'reviewer',\n",
       " 'datetime',\n",
       " 'date']"
      ]
     },
     "metadata": {},
     "execution_count": 11
    }
   ],
   "source": [
    "glassdoor.columns.to_list()"
   ]
  },
  {
   "cell_type": "code",
   "execution_count": 12,
   "metadata": {},
   "outputs": [],
   "source": [
    "cols = ['date', 'rating', 'title', 'pros', 'cons', 'advice', 'reviewer', 'url']\n",
    "glassdoor = glassdoor[cols]"
   ]
  },
  {
   "cell_type": "code",
   "execution_count": 13,
   "metadata": {},
   "outputs": [],
   "source": [
    "glassdoor.fillna('None', inplace=True)"
   ]
  },
  {
   "cell_type": "code",
   "execution_count": 14,
   "metadata": {},
   "outputs": [],
   "source": [
    "# Sort by date (newest to oldest)\n",
    "glassdoor.sort_values(by='date', ascending=False, inplace=True)"
   ]
  },
  {
   "cell_type": "code",
   "execution_count": 15,
   "metadata": {},
   "outputs": [
    {
     "output_type": "execute_result",
     "data": {
      "text/plain": [
       "         date  rating                    title  \\\n",
       "0  2021-03-13       3     Good product bad pay   \n",
       "1  2021-03-04       5         I love Typeform!   \n",
       "2  2021-03-02       5                     Good   \n",
       "3  2021-02-11       5  Best onboarding ever. 🤩   \n",
       "4  2021-02-10       5                 Feedback   \n",
       "\n",
       "                                                pros  \\\n",
       "0      The product is amazing and so are the people!   \n",
       "1                        Good CEO, salary &amp; time   \n",
       "2                      This is no pros and i like it   \n",
       "3  Professional, driven and empathetic humans who...   \n",
       "4  Smooth interview process. Friendly and Authent...   \n",
       "\n",
       "                                                cons  \\\n",
       "0   Not the greatest base pay and no real leadership   \n",
       "1              Coffee, lunch and snacks and time off   \n",
       "2             Highly efficient and care for employes   \n",
       "3  Timezone workarounds due to international hybr...   \n",
       "4        So far no need for constructive feedback :)   \n",
       "\n",
       "                                              advice           reviewer  \\\n",
       "0                                               None  Account Executive   \n",
       "1                                               None     Growth Manager   \n",
       "2                                               None         Data Entry   \n",
       "3  One day, it would be absolutely amazing to acq...               None   \n",
       "4                                               None         People Ops   \n",
       "\n",
       "                                                 url  \n",
       "0  https://www.glassdoor.com/Reviews/Employee-Rev...  \n",
       "1  https://www.glassdoor.com/Reviews/Employee-Rev...  \n",
       "2  https://www.glassdoor.com/Reviews/Employee-Rev...  \n",
       "3  https://www.glassdoor.com/Reviews/Employee-Rev...  \n",
       "4  https://www.glassdoor.com/Reviews/Employee-Rev...  "
      ],
      "text/html": "<div>\n<style scoped>\n    .dataframe tbody tr th:only-of-type {\n        vertical-align: middle;\n    }\n\n    .dataframe tbody tr th {\n        vertical-align: top;\n    }\n\n    .dataframe thead th {\n        text-align: right;\n    }\n</style>\n<table border=\"1\" class=\"dataframe\">\n  <thead>\n    <tr style=\"text-align: right;\">\n      <th></th>\n      <th>date</th>\n      <th>rating</th>\n      <th>title</th>\n      <th>pros</th>\n      <th>cons</th>\n      <th>advice</th>\n      <th>reviewer</th>\n      <th>url</th>\n    </tr>\n  </thead>\n  <tbody>\n    <tr>\n      <th>0</th>\n      <td>2021-03-13</td>\n      <td>3</td>\n      <td>Good product bad pay</td>\n      <td>The product is amazing and so are the people!</td>\n      <td>Not the greatest base pay and no real leadership</td>\n      <td>None</td>\n      <td>Account Executive</td>\n      <td>https://www.glassdoor.com/Reviews/Employee-Rev...</td>\n    </tr>\n    <tr>\n      <th>1</th>\n      <td>2021-03-04</td>\n      <td>5</td>\n      <td>I love Typeform!</td>\n      <td>Good CEO, salary &amp;amp; time</td>\n      <td>Coffee, lunch and snacks and time off</td>\n      <td>None</td>\n      <td>Growth Manager</td>\n      <td>https://www.glassdoor.com/Reviews/Employee-Rev...</td>\n    </tr>\n    <tr>\n      <th>2</th>\n      <td>2021-03-02</td>\n      <td>5</td>\n      <td>Good</td>\n      <td>This is no pros and i like it</td>\n      <td>Highly efficient and care for employes</td>\n      <td>None</td>\n      <td>Data Entry</td>\n      <td>https://www.glassdoor.com/Reviews/Employee-Rev...</td>\n    </tr>\n    <tr>\n      <th>3</th>\n      <td>2021-02-11</td>\n      <td>5</td>\n      <td>Best onboarding ever. 🤩</td>\n      <td>Professional, driven and empathetic humans who...</td>\n      <td>Timezone workarounds due to international hybr...</td>\n      <td>One day, it would be absolutely amazing to acq...</td>\n      <td>None</td>\n      <td>https://www.glassdoor.com/Reviews/Employee-Rev...</td>\n    </tr>\n    <tr>\n      <th>4</th>\n      <td>2021-02-10</td>\n      <td>5</td>\n      <td>Feedback</td>\n      <td>Smooth interview process. Friendly and Authent...</td>\n      <td>So far no need for constructive feedback :)</td>\n      <td>None</td>\n      <td>People Ops</td>\n      <td>https://www.glassdoor.com/Reviews/Employee-Rev...</td>\n    </tr>\n  </tbody>\n</table>\n</div>"
     },
     "metadata": {},
     "execution_count": 15
    }
   ],
   "source": [
    "glassdoor.head()"
   ]
  },
  {
   "source": [
    "## Ratings"
   ],
   "cell_type": "markdown",
   "metadata": {}
  },
  {
   "source": [
    "### Overall Rating"
   ],
   "cell_type": "markdown",
   "metadata": {}
  },
  {
   "cell_type": "code",
   "execution_count": 16,
   "metadata": {},
   "outputs": [
    {
     "output_type": "stream",
     "name": "stdout",
     "text": [
      "Typeform's overall rating is 4.2.\n"
     ]
    }
   ],
   "source": [
    "overall_rating = response['totals']['overall_rating']\n",
    "print(f\"Typeform's overall rating is {overall_rating}.\")"
   ]
  },
  {
   "source": [
    "### Ratings Percentage"
   ],
   "cell_type": "markdown",
   "metadata": {}
  },
  {
   "source": [
    "ratings = glassdoor['rating'].value_counts()\n",
    "ratings_df = pd.DataFrame(ratings)\n",
    "rating_percentage = (ratings_df['rating'] / number_reviews) * 100\n",
    "ratings_df['percentage'] = round(rating_percentage, 2)\n",
    "ratings_df"
   ],
   "cell_type": "code",
   "metadata": {},
   "execution_count": 17,
   "outputs": [
    {
     "output_type": "execute_result",
     "data": {
      "text/plain": [
       "   rating  percentage\n",
       "5      59       54.13\n",
       "4      20       18.35\n",
       "1      12       11.01\n",
       "2      11       10.09\n",
       "3       6        5.50"
      ],
      "text/html": "<div>\n<style scoped>\n    .dataframe tbody tr th:only-of-type {\n        vertical-align: middle;\n    }\n\n    .dataframe tbody tr th {\n        vertical-align: top;\n    }\n\n    .dataframe thead th {\n        text-align: right;\n    }\n</style>\n<table border=\"1\" class=\"dataframe\">\n  <thead>\n    <tr style=\"text-align: right;\">\n      <th></th>\n      <th>rating</th>\n      <th>percentage</th>\n    </tr>\n  </thead>\n  <tbody>\n    <tr>\n      <th>5</th>\n      <td>59</td>\n      <td>54.13</td>\n    </tr>\n    <tr>\n      <th>4</th>\n      <td>20</td>\n      <td>18.35</td>\n    </tr>\n    <tr>\n      <th>1</th>\n      <td>12</td>\n      <td>11.01</td>\n    </tr>\n    <tr>\n      <th>2</th>\n      <td>11</td>\n      <td>10.09</td>\n    </tr>\n    <tr>\n      <th>3</th>\n      <td>6</td>\n      <td>5.50</td>\n    </tr>\n  </tbody>\n</table>\n</div>"
     },
     "metadata": {},
     "execution_count": 17
    }
   ]
  },
  {
   "source": [
    "### Total Ratings"
   ],
   "cell_type": "markdown",
   "metadata": {}
  },
  {
   "cell_type": "code",
   "execution_count": 18,
   "metadata": {},
   "outputs": [],
   "source": [
    "total_ratings_dict = [{\n",
    "    'overall_rating': overall_rating,\n",
    "    'culture_and_values': response['totals']['culture_and_values_rating'],\n",
    "    'diversity_and_inclusion': response['totals']['diversity_and_inclusion_rating'],\n",
    "    'work_life_balance': response['totals']['work_life_balance_rating'],\n",
    "    'senior_management': response['totals']['senior_management_rating'],\n",
    "    'compensation_and_benefits': response['totals']['compensation_and_benefits_rating'],\n",
    "    'career_opportunities': response['totals']['career_opportunities_rating']\n",
    "}]"
   ]
  },
  {
   "cell_type": "code",
   "execution_count": 19,
   "metadata": {},
   "outputs": [],
   "source": [
    "total_ratings = pd.DataFrame(total_ratings_dict)"
   ]
  },
  {
   "cell_type": "code",
   "execution_count": 20,
   "metadata": {},
   "outputs": [],
   "source": [
    "cols = ['overall_rating', 'culture_and_values', 'diversity_and_inclusion', 'work_life_balance', 'senior_management', 'compensation_and_benefits', 'career_opportunities']"
   ]
  },
  {
   "cell_type": "code",
   "execution_count": 21,
   "metadata": {},
   "outputs": [],
   "source": [
    "total_ratings[cols] = total_ratings[cols].apply(pd.to_numeric)"
   ]
  },
  {
   "cell_type": "code",
   "execution_count": 22,
   "metadata": {},
   "outputs": [
    {
     "output_type": "execute_result",
     "data": {
      "text/plain": [
       "                    variable  value\n",
       "0             overall_rating    4.2\n",
       "1         culture_and_values    4.1\n",
       "2    diversity_and_inclusion    3.8\n",
       "3          work_life_balance    4.3\n",
       "4          senior_management    3.6\n",
       "5  compensation_and_benefits    4.4\n",
       "6       career_opportunities    3.8"
      ],
      "text/html": "<div>\n<style scoped>\n    .dataframe tbody tr th:only-of-type {\n        vertical-align: middle;\n    }\n\n    .dataframe tbody tr th {\n        vertical-align: top;\n    }\n\n    .dataframe thead th {\n        text-align: right;\n    }\n</style>\n<table border=\"1\" class=\"dataframe\">\n  <thead>\n    <tr style=\"text-align: right;\">\n      <th></th>\n      <th>variable</th>\n      <th>value</th>\n    </tr>\n  </thead>\n  <tbody>\n    <tr>\n      <th>0</th>\n      <td>overall_rating</td>\n      <td>4.2</td>\n    </tr>\n    <tr>\n      <th>1</th>\n      <td>culture_and_values</td>\n      <td>4.1</td>\n    </tr>\n    <tr>\n      <th>2</th>\n      <td>diversity_and_inclusion</td>\n      <td>3.8</td>\n    </tr>\n    <tr>\n      <th>3</th>\n      <td>work_life_balance</td>\n      <td>4.3</td>\n    </tr>\n    <tr>\n      <th>4</th>\n      <td>senior_management</td>\n      <td>3.6</td>\n    </tr>\n    <tr>\n      <th>5</th>\n      <td>compensation_and_benefits</td>\n      <td>4.4</td>\n    </tr>\n    <tr>\n      <th>6</th>\n      <td>career_opportunities</td>\n      <td>3.8</td>\n    </tr>\n  </tbody>\n</table>\n</div>"
     },
     "metadata": {},
     "execution_count": 22
    }
   ],
   "source": [
    "total_ratings.melt()"
   ]
  },
  {
   "source": [
    "## Export"
   ],
   "cell_type": "markdown",
   "metadata": {}
  },
  {
   "cell_type": "code",
   "execution_count": 23,
   "metadata": {},
   "outputs": [],
   "source": [
    "glassdoor.to_csv('1-reviews.csv', sep=',', index=False)"
   ]
  }
 ]
}